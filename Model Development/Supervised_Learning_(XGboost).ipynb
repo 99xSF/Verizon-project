{
  "cells": [
    {
      "cell_type": "markdown",
      "metadata": {
        "id": "view-in-github",
        "colab_type": "text"
      },
      "source": [
        "<a href=\"https://colab.research.google.com/github/veradureke/Technology-Product-Categorization/blob/main/Supervised_Learning_(XGboost).ipynb\" target=\"_parent\"><img src=\"https://colab.research.google.com/assets/colab-badge.svg\" alt=\"Open In Colab\"/></a>"
      ]
    },
    {
      "cell_type": "code",
      "source": [
        "from sklearn.model_selection import train_test_split\n",
        "from sklearn.feature_extraction.text import TfidfVectorizer\n",
        "from sklearn.preprocessing import LabelEncoder\n",
        "from xgboost import XGBClassifier\n",
        "from sklearn.metrics import classification_report\n",
        "from google.colab import drive\n",
        "import pandas as pd\n",
        "\n",
        "# Mount Google Drive\n",
        "drive.mount('/content/drive')\n",
        "categories_file_path = '/content/drive/MyDrive/Verizon 1 2024-2025/categories.csv'\n",
        "products_file_path = '/content/drive/MyDrive/Verizon 1 2024-2025/products.csv'\n",
        "sub_categories_file_path = '/content/drive/MyDrive/Verizon 1 2024-2025/sub-categories.csv'\n",
        "\n",
        "# Load CSV files\n",
        "categories_df = pd.read_csv(categories_file_path)\n",
        "products_df = pd.read_csv(products_file_path)\n",
        "sub_categories_df = pd.read_csv(sub_categories_file_path)\n",
        "\n",
        "# Data preparation\n",
        "X = products_df['product_description']\n",
        "y = products_df['taxonomy_category']\n",
        "\n",
        "# Encode target labels\n",
        "label_encoder = LabelEncoder()\n",
        "y_encoded = label_encoder.fit_transform(y)\n",
        "\n",
        "# Train-test split\n",
        "X_train, X_test, y_train_encoded, y_test_encoded = train_test_split(\n",
        "    X, y_encoded, test_size=0.2, random_state=42, stratify=y_encoded\n",
        ")\n",
        "\n",
        "# TF-IDF vectorization\n",
        "vectorizer = TfidfVectorizer(max_features=5000, stop_words='english')\n",
        "X_train_tfidf = vectorizer.fit_transform(X_train)\n",
        "X_test_tfidf = vectorizer.transform(X_test)\n",
        "\n",
        "# Calculate class weights for balancing\n",
        "from sklearn.utils.class_weight import compute_class_weight\n",
        "import numpy as np\n",
        "\n",
        "class_weights = compute_class_weight(\n",
        "    class_weight='balanced',\n",
        "    classes=np.unique(y_train_encoded),\n",
        "    y=y_train_encoded\n",
        ")\n",
        "class_weight_dict = dict(enumerate(class_weights))\n",
        "\n",
        "# Train XGBoost model\n",
        "xgb_model = XGBClassifier(eval_metric='mlogloss', scale_pos_weight=1)\n",
        "xgb_model.fit(\n",
        "    X_train_tfidf,\n",
        "    y_train_encoded,\n",
        "    sample_weight=np.array([class_weight_dict[label] for label in y_train_encoded])\n",
        ")\n",
        "\n",
        "# Evaluation\n",
        "y_pred_encoded = xgb_model.predict(X_test_tfidf)\n",
        "xgb_report = classification_report(\n",
        "    y_test_encoded,\n",
        "    y_pred_encoded,\n",
        "    target_names=label_encoder.classes_,\n",
        "    zero_division=0\n",
        ")\n",
        "\n",
        "print(\"XGBoost Classification Report (Adjusted):\")\n",
        "print(xgb_report)\n"
      ],
      "metadata": {
        "colab": {
          "base_uri": "https://localhost:8080/"
        },
        "id": "N4Dss1Kz5ucD",
        "outputId": "456f38d8-ebdb-4b8d-ef36-0943350e2803"
      },
      "execution_count": null,
      "outputs": [
        {
          "output_type": "stream",
          "name": "stdout",
          "text": [
            "Mounted at /content/drive\n"
          ]
        },
        {
          "output_type": "stream",
          "name": "stderr",
          "text": [
            "/usr/local/lib/python3.10/dist-packages/xgboost/core.py:158: UserWarning: [03:14:44] WARNING: /workspace/src/learner.cc:740: \n",
            "Parameters: { \"scale_pos_weight\" } are not used.\n",
            "\n",
            "  warnings.warn(smsg, UserWarning)\n"
          ]
        },
        {
          "output_type": "stream",
          "name": "stdout",
          "text": [
            "XGBoost Classification Report (Adjusted):\n",
            "                                      precision    recall  f1-score   support\n",
            "\n",
            "                             AI & ML       0.00      0.00      0.00         6\n",
            "                 BI & Data Analytics       0.32      0.48      0.39        23\n",
            "      Customer Operational Platforms       0.46      0.43      0.45        30\n",
            "      Design, Development & Delivery       0.55      0.51      0.53        35\n",
            "                   Digital Workplace       0.29      0.31      0.30        13\n",
            "               Emerging Technologies       0.00      0.00      0.00         1\n",
            "                Enterprise Platforms       0.47      0.56      0.51        48\n",
            "Geographic Information Systems (GIS)       0.83      0.50      0.62        10\n",
            " IT Infrastructure Software Services       0.51      0.48      0.50        56\n",
            "             Management & Governance       0.43      0.23      0.30        13\n",
            "                Marketing Management       0.60      0.50      0.55        18\n",
            "   Performance, Monitoring & Logging       0.50      0.46      0.48        28\n",
            "          Telecom Network Management       0.29      0.28      0.29        18\n",
            "\n",
            "                            accuracy                           0.45       299\n",
            "                           macro avg       0.40      0.37      0.38       299\n",
            "                        weighted avg       0.47      0.45      0.45       299\n",
            "\n"
          ]
        }
      ]
    },
    {
      "cell_type": "code",
      "source": [
        "# Function to make predictions for a description\n",
        "def predict_category(sample_description):\n",
        "    \"\"\"\n",
        "    Predict the category of a given product description.\n",
        "\n",
        "    Args:\n",
        "        sample_description (str): The product description to categorize.\n",
        "\n",
        "    Returns:\n",
        "        str: Predicted category.\n",
        "    \"\"\"\n",
        "    # Transform the input description using the trained TF-IDF vectorizer\n",
        "    sample_tfidf = vectorizer.transform([sample_description])\n",
        "\n",
        "    # Predict the encoded label using the trained XGBoost model\n",
        "    predicted_encoded = xgb_model.predict(sample_tfidf)\n",
        "\n",
        "    # Decode the predicted label back to the original category\n",
        "    predicted_category = label_encoder.inverse_transform(predicted_encoded)\n",
        "\n",
        "    return predicted_category[0]\n",
        "\n",
        "# Example: Predicting for a description\n",
        "sample_description = (\n",
        "    \"A voice, video, and text communication platform designed for creating communities. \"\n",
        "    \"Offers real-time messaging, screen sharing, and integrations with gaming and productivity tools.\"\n",
        ")\n",
        "predicted_category = predict_category(sample_description)\n",
        "\n",
        "print(f\"Sample Description: {sample_description}\")\n",
        "print(f\"Predicted Category: {predicted_category}\")"
      ],
      "metadata": {
        "id": "6kBrFFnFTfGC",
        "outputId": "3fe586c9-098f-4665-e8a2-6a2a4c51d116",
        "colab": {
          "base_uri": "https://localhost:8080/",
          "height": 332
        }
      },
      "execution_count": null,
      "outputs": [
        {
          "output_type": "error",
          "ename": "NameError",
          "evalue": "name 'vectorizer' is not defined",
          "traceback": [
            "\u001b[0;31m---------------------------------------------------------------------------\u001b[0m",
            "\u001b[0;31mNameError\u001b[0m                                 Traceback (most recent call last)",
            "\u001b[0;32m<ipython-input-1-9a823c5e657d>\u001b[0m in \u001b[0;36m<cell line: 28>\u001b[0;34m()\u001b[0m\n\u001b[1;32m     26\u001b[0m     \u001b[0;34m\"Offers real-time messaging, screen sharing, and integrations with gaming and productivity tools.\"\u001b[0m\u001b[0;34m\u001b[0m\u001b[0;34m\u001b[0m\u001b[0m\n\u001b[1;32m     27\u001b[0m )\n\u001b[0;32m---> 28\u001b[0;31m \u001b[0mpredicted_category\u001b[0m \u001b[0;34m=\u001b[0m \u001b[0mpredict_category\u001b[0m\u001b[0;34m(\u001b[0m\u001b[0msample_description\u001b[0m\u001b[0;34m)\u001b[0m\u001b[0;34m\u001b[0m\u001b[0;34m\u001b[0m\u001b[0m\n\u001b[0m\u001b[1;32m     29\u001b[0m \u001b[0;34m\u001b[0m\u001b[0m\n\u001b[1;32m     30\u001b[0m \u001b[0mprint\u001b[0m\u001b[0;34m(\u001b[0m\u001b[0;34mf\"Sample Description: {sample_description}\"\u001b[0m\u001b[0;34m)\u001b[0m\u001b[0;34m\u001b[0m\u001b[0;34m\u001b[0m\u001b[0m\n",
            "\u001b[0;32m<ipython-input-1-9a823c5e657d>\u001b[0m in \u001b[0;36mpredict_category\u001b[0;34m(sample_description)\u001b[0m\n\u001b[1;32m     11\u001b[0m     \"\"\"\n\u001b[1;32m     12\u001b[0m     \u001b[0;31m# Transform the input description using the trained TF-IDF vectorizer\u001b[0m\u001b[0;34m\u001b[0m\u001b[0;34m\u001b[0m\u001b[0m\n\u001b[0;32m---> 13\u001b[0;31m     \u001b[0msample_tfidf\u001b[0m \u001b[0;34m=\u001b[0m \u001b[0mvectorizer\u001b[0m\u001b[0;34m.\u001b[0m\u001b[0mtransform\u001b[0m\u001b[0;34m(\u001b[0m\u001b[0;34m[\u001b[0m\u001b[0msample_description\u001b[0m\u001b[0;34m]\u001b[0m\u001b[0;34m)\u001b[0m\u001b[0;34m\u001b[0m\u001b[0;34m\u001b[0m\u001b[0m\n\u001b[0m\u001b[1;32m     14\u001b[0m \u001b[0;34m\u001b[0m\u001b[0m\n\u001b[1;32m     15\u001b[0m     \u001b[0;31m# Predict the encoded label using the trained XGBoost model\u001b[0m\u001b[0;34m\u001b[0m\u001b[0;34m\u001b[0m\u001b[0m\n",
            "\u001b[0;31mNameError\u001b[0m: name 'vectorizer' is not defined"
          ]
        }
      ]
    }
  ],
  "metadata": {
    "colab": {
      "provenance": [],
      "include_colab_link": true
    },
    "kernelspec": {
      "display_name": "Python 3",
      "name": "python3"
    },
    "language_info": {
      "name": "python"
    }
  },
  "nbformat": 4,
  "nbformat_minor": 0
}
