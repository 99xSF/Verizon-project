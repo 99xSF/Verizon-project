{
  "nbformat": 4,
  "nbformat_minor": 0,
  "metadata": {
    "colab": {
      "provenance": [],
      "authorship_tag": "ABX9TyOeI30bW6jVMi7wGmTIr8XO",
      "include_colab_link": true
    },
    "kernelspec": {
      "name": "python3",
      "display_name": "Python 3"
    },
    "language_info": {
      "name": "python"
    }
  },
  "cells": [
    {
      "cell_type": "markdown",
      "metadata": {
        "id": "view-in-github",
        "colab_type": "text"
      },
      "source": [
        "<a href=\"https://colab.research.google.com/github/veradureke/Technology-Product-Categorization/blob/main/Multishot_Learning.ipynb\" target=\"_parent\"><img src=\"https://colab.research.google.com/assets/colab-badge.svg\" alt=\"Open In Colab\"/></a>"
      ]
    },
    {
      "cell_type": "code",
      "execution_count": null,
      "metadata": {
        "colab": {
          "base_uri": "https://localhost:8080/"
        },
        "id": "fageuSLR7iVQ",
        "outputId": "1f365d8e-f0ba-4fed-9bfe-4f1182a55df3"
      },
      "outputs": [
        {
          "output_type": "stream",
          "name": "stdout",
          "text": [
            "Drive already mounted at /content/drive; to attempt to forcibly remount, call drive.mount(\"/content/drive\", force_remount=True).\n",
            "Overall Accuracy: 0.48494983277591974\n",
            "Classification Report for All Categories:\n",
            "                                      precision    recall  f1-score   support\n",
            "\n",
            "                             AI & ML       0.12      0.17      0.14         6\n",
            "                 BI & Data Analytics       0.43      0.78      0.55        23\n",
            "      Customer Operational Platforms       0.37      0.57      0.45        30\n",
            "      Design, Development & Delivery       0.39      0.51      0.44        35\n",
            "                   Digital Workplace       0.35      0.54      0.42        13\n",
            "               Emerging Technologies       0.00      0.00      0.00         1\n",
            "                Enterprise Platforms       0.65      0.50      0.56        48\n",
            "Geographic Information Systems (GIS)       0.83      0.50      0.62        10\n",
            " IT Infrastructure Software Services       0.64      0.61      0.62        56\n",
            "             Management & Governance       1.00      0.15      0.27        13\n",
            "                Marketing Management       0.21      0.17      0.19        18\n",
            "   Performance, Monitoring & Logging       0.76      0.46      0.58        28\n",
            "          Telecom Network Management       0.43      0.17      0.24        18\n",
            "\n",
            "                            accuracy                           0.48       299\n",
            "                           macro avg       0.48      0.39      0.39       299\n",
            "                        weighted avg       0.54      0.48      0.48       299\n",
            "\n"
          ]
        }
      ],
      "source": [
        "from sklearn.model_selection import train_test_split\n",
        "from sklearn.feature_extraction.text import TfidfVectorizer\n",
        "from sklearn.neighbors import KNeighborsClassifier\n",
        "from sklearn.metrics import classification_report, accuracy_score\n",
        "from google.colab import drive\n",
        "import pandas as pd\n",
        "\n",
        "# Mount Google Drive\n",
        "drive.mount('/content/drive')\n",
        "\n",
        "# Define file paths\n",
        "categories_file_path = '/content/drive/MyDrive/Verizon 1 2024-2025/categories.csv'\n",
        "products_file_path = '/content/drive/MyDrive/Verizon 1 2024-2025/products.csv'\n",
        "sub_categories_file_path = '/content/drive/MyDrive/Verizon 1 2024-2025/sub-categories.csv'\n",
        "\n",
        "# Load CSV files\n",
        "categories_df = pd.read_csv(categories_file_path)\n",
        "products_df = pd.read_csv(products_file_path)\n",
        "sub_categories_df = pd.read_csv(sub_categories_file_path)\n",
        "\n",
        "# Prepare data\n",
        "X = products_df['product_description']\n",
        "y = products_df['taxonomy_category']\n",
        "\n",
        "# Train-test split\n",
        "X_train, X_test, y_train, y_test = train_test_split(\n",
        "    X, y, test_size=0.2, random_state=42, stratify=y\n",
        ")\n",
        "\n",
        "# TF-IDF vectorization\n",
        "vectorizer = TfidfVectorizer(max_features=5000, stop_words='english')\n",
        "X_train_tfidf = vectorizer.fit_transform(X_train)\n",
        "X_test_tfidf = vectorizer.transform(X_test)\n",
        "\n",
        "# Train KNN classifier\n",
        "knn_model = KNeighborsClassifier(n_neighbors=3)\n",
        "knn_model.fit(X_train_tfidf, y_train)\n",
        "\n",
        "# Predictions\n",
        "y_pred = knn_model.predict(X_test_tfidf)\n",
        "\n",
        "# Accuracy\n",
        "accuracy = accuracy_score(y_test, y_pred)\n",
        "print(f\"Overall Accuracy: {accuracy}\")\n",
        "\n",
        "# Classification Report for All Categories\n",
        "classification_report_all_categories = classification_report(\n",
        "    y_test, y_pred, zero_division=0\n",
        ")\n",
        "print(\"Classification Report for All Categories:\")\n",
        "print(classification_report_all_categories)\n"
      ]
    }
  ]
}